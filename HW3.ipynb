{
 "cells": [
  {
   "cell_type": "code",
   "execution_count": 27,
   "metadata": {},
   "outputs": [],
   "source": [
    "import os\n",
    "import time\n",
    "from tqdm import tqdm\n",
    "import requests \n",
    "from bs4 import BeautifulSoup\n",
    "headers = {'User-Agent': 'Mozilla/5.0 (Linux; Android 5.1.1; SM-G928X Build/LMY47X) AppleWebKit/537.36 (KHTML, like Gecko) Chrome/47.0.2526.83 Mobile Safari/537.36'}\n",
    "main_site = 'https://guide.michelin.com'\n",
    "init_page = 'https://guide.michelin.com/en/it/restaurants'"
   ]
  },
  {
   "cell_type": "markdown",
   "metadata": {},
   "source": [
    "1.1. Get the list of Michelin restaurants\n",
    "You should begin by compiling a list of restaurants to include in your document corpus. Specifically, you will focus on web scraping the Michelin Restaurants in Italy. Your task is to collect the URL associated with each restaurant in this list. The output of this step should be a .txt file where each line contains a single restaurant’s URL. By the end, you should have approximately 2,000 restaurants on your list. The number changes daily, so some groups might have different number of restaurants."
   ]
  },
  {
   "cell_type": "code",
   "execution_count": 28,
   "metadata": {},
   "outputs": [
    {
     "name": "stderr",
     "output_type": "stream",
     "text": [
      "100%|██████████| 100/100 [00:43<00:00,  2.29it/s]\n"
     ]
    }
   ],
   "source": [
    "restuarants_list = []\n",
    "number_of_pages = 100\n",
    "\n",
    "for i in tqdm(range(1, number_of_pages+1)):\n",
    "    url = os.path.join(init_page, f'page/{i}')\n",
    "    response = requests.get(url, headers=headers)\n",
    "\n",
    "    if response.status_code  == 200:\n",
    "        soup = BeautifulSoup(response.content)\n",
    "        restuarants = soup.select('.card__menu.selection-card.js-restaurant__list_item')\n",
    "        \n",
    "        for restuarant  in restuarants:\n",
    "            link = restuarant.find('a')\n",
    "            full_link = os.path.join(main_site, link.get('href')[1:])     \n",
    "            restuarants_list.append(full_link)   \n",
    "    else:\n",
    "        pass\n",
    "    "
   ]
  },
  {
   "cell_type": "markdown",
   "metadata": {},
   "source": [
    "Save the list of restuarants into a text file"
   ]
  },
  {
   "cell_type": "code",
   "execution_count": 31,
   "metadata": {},
   "outputs": [],
   "source": [
    "with open('restuarants.txt', 'w') as _file:\n",
    "    restuarants_str = '\\n'.join(restuarants_list)\n",
    "    _file.write(restuarants_str)"
   ]
  },
  {
   "cell_type": "code",
   "execution_count": null,
   "metadata": {},
   "outputs": [],
   "source": []
  }
 ],
 "metadata": {
  "kernelspec": {
   "display_name": "toxifree2",
   "language": "python",
   "name": "python3"
  },
  "language_info": {
   "codemirror_mode": {
    "name": "ipython",
    "version": 3
   },
   "file_extension": ".py",
   "mimetype": "text/x-python",
   "name": "python",
   "nbconvert_exporter": "python",
   "pygments_lexer": "ipython3",
   "version": "3.8.18"
  }
 },
 "nbformat": 4,
 "nbformat_minor": 2
}
